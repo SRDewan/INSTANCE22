{
 "cells": [
  {
   "cell_type": "markdown",
   "metadata": {},
   "source": [
    "# Computer Vision Project\n",
    "## INSTANCE 22 Challenge\n",
    "\n",
    "### Team\n",
    "1. Shaurya Dewan - 2019101017\n",
    "2. Ashwin Rao - 2019101049\n",
    "3. Harshwardhan Prasad - 20"
   ]
  },
  {
   "cell_type": "markdown",
   "metadata": {},
   "source": [
    "### Importing Required Libraries and Basic Setup"
   ]
  },
  {
   "cell_type": "code",
   "execution_count": 1,
   "metadata": {
    "id": "5Unmt8lH_jX-"
   },
   "outputs": [],
   "source": [
    "from monai.utils import first, set_determinism\n",
    "from monai.transforms import (\n",
    "    AsDiscrete,\n",
    "    AsDiscreted,\n",
    "    EnsureChannelFirstd,\n",
    "    Compose,\n",
    "    CropForegroundd,\n",
    "    LoadImaged,\n",
    "    Orientationd,\n",
    "    RandCropByPosNegLabeld,\n",
    "    RandAffined,\n",
    "    SaveImaged,\n",
    "    ScaleIntensityRanged,\n",
    "    Spacingd,\n",
    "    EnsureTyped,\n",
    "    EnsureType,\n",
    "    Invertd,\n",
    "    RandSpatialCropd,\n",
    "    RandFlipd,\n",
    "    NormalizeIntensityd,\n",
    "    RandScaleIntensityd,\n",
    "    RandShiftIntensityd\n",
    ")\n",
    "from monai.handlers.utils import from_engine\n",
    "from monai.networks.nets import UNet\n",
    "from monai.networks.layers import Norm\n",
    "from monai.metrics import DiceMetric\n",
    "from monai.losses import DiceLoss\n",
    "from monai.inferers import sliding_window_inference\n",
    "from monai.data import CacheDataset, DataLoader, Dataset, decollate_batch\n",
    "from monai.config import print_config\n",
    "from monai.apps import download_and_extract\n",
    "\n",
    "import torch\n",
    "import matplotlib.pyplot as plt\n",
    "import tempfile\n",
    "import shutil\n",
    "import os\n",
    "import glob\n",
    "import numpy as np\n",
    "import time\n",
    "import tqdm"
   ]
  },
  {
   "cell_type": "code",
   "execution_count": 2,
   "metadata": {},
   "outputs": [
    {
     "name": "stderr",
     "output_type": "stream",
     "text": [
      "\u001b[34m\u001b[1mwandb\u001b[0m: Currently logged in as: \u001b[33msrdewan\u001b[0m (\u001b[33mwhatever\u001b[0m). Use \u001b[1m`wandb login --relogin`\u001b[0m to force relogin\n"
     ]
    },
    {
     "data": {
      "text/html": [
       "Tracking run with wandb version 0.12.17"
      ],
      "text/plain": [
       "<IPython.core.display.HTML object>"
      ]
     },
     "metadata": {},
     "output_type": "display_data"
    },
    {
     "data": {
      "text/html": [
       "Run data is saved locally in <code>/home/srd/Desktop/CV/INSTANCE22/wandb/run-20220530_215952-32kmka47</code>"
      ],
      "text/plain": [
       "<IPython.core.display.HTML object>"
      ]
     },
     "metadata": {},
     "output_type": "display_data"
    },
    {
     "data": {
      "text/html": [
       "Syncing run <strong><a href=\"https://wandb.ai/whatever/test-project/runs/32kmka47\" target=\"_blank\">distinctive-capybara-12</a></strong> to <a href=\"https://wandb.ai/whatever/test-project\" target=\"_blank\">Weights & Biases</a> (<a href=\"https://wandb.me/run\" target=\"_blank\">docs</a>)<br/>"
      ],
      "text/plain": [
       "<IPython.core.display.HTML object>"
      ]
     },
     "metadata": {},
     "output_type": "display_data"
    },
    {
     "data": {
      "text/html": [
       "<button onClick=\"this.nextSibling.style.display='block';this.style.display='none';\">Display W&B run</button><iframe src=\"https://wandb.ai/whatever/test-project/runs/32kmka47?jupyter=true\" style=\"border:none;width:100%;height:420px;display:none;\"></iframe>"
      ],
      "text/plain": [
       "<wandb.sdk.wandb_run.Run at 0x7f9814fbef10>"
      ]
     },
     "execution_count": 2,
     "metadata": {},
     "output_type": "execute_result"
    }
   ],
   "source": [
    "import wandb\n",
    "wandb.init(project=\"test-project\", entity=\"whatever\")"
   ]
  },
  {
   "cell_type": "code",
   "execution_count": 3,
   "metadata": {
    "colab": {
     "base_uri": "https://localhost:8080/"
    },
    "id": "6E3-zVNBK0e1",
    "outputId": "6cdefeac-5abf-49e7-fa47-2541d18fc095"
   },
   "outputs": [
    {
     "name": "stdout",
     "output_type": "stream",
     "text": [
      "MONAI version: 0.9.0rc1+19.g61a0dc35\n",
      "Numpy version: 1.22.4\n",
      "Pytorch version: 1.11.0+cu102\n",
      "MONAI flags: HAS_EXT = False, USE_COMPILED = False\n",
      "MONAI rev id: 61a0dc35b8a5edf78487b30c02c7aa0e51fc3409\n",
      "MONAI __file__: /home/srd/MONAI/monai/__init__.py\n",
      "\n",
      "Optional dependencies:\n",
      "Pytorch Ignite version: 0.4.8\n",
      "Nibabel version: 3.2.2\n",
      "scikit-image version: 0.19.2\n",
      "Pillow version: 9.1.1\n",
      "Tensorboard version: 2.9.0\n",
      "gdown version: 4.4.0\n",
      "TorchVision version: 0.12.0+cu102\n",
      "tqdm version: 4.64.0\n",
      "lmdb version: 1.3.0\n",
      "psutil version: 5.9.1\n",
      "pandas version: 1.4.2\n",
      "einops version: 0.4.1\n",
      "transformers version: 4.19.2\n",
      "mlflow version: 1.26.1\n",
      "pynrrd version: 0.4.3\n",
      "\n",
      "For details about installing the optional dependencies, please visit:\n",
      "    https://docs.monai.io/en/latest/installation.html#installing-the-recommended-dependencies\n",
      "\n"
     ]
    }
   ],
   "source": [
    "print_config()"
   ]
  },
  {
   "cell_type": "code",
   "execution_count": 4,
   "metadata": {
    "colab": {
     "base_uri": "https://localhost:8080/"
    },
    "id": "cPb4r7mRSxfv",
    "outputId": "04601373-0c80-4f1c-d7a0-79e9a40f51fe"
   },
   "outputs": [
    {
     "name": "stdout",
     "output_type": "stream",
     "text": [
      "./results\n"
     ]
    }
   ],
   "source": [
    "os.environ[\"MONAI_DATA_DIRECTORY\"] = \"./results\"\n",
    "directory = os.environ.get(\"MONAI_DATA_DIRECTORY\")\n",
    "root_dir = tempfile.mkdtemp() if directory is None else directory\n",
    "print(root_dir)"
   ]
  },
  {
   "cell_type": "markdown",
   "metadata": {},
   "source": [
    "## Dataloader Setup"
   ]
  },
  {
   "cell_type": "markdown",
   "metadata": {},
   "source": [
    "### Setting Datafiles' Paths"
   ]
  },
  {
   "cell_type": "code",
   "execution_count": 5,
   "metadata": {
    "id": "R1sn7gaYTIH5"
   },
   "outputs": [],
   "source": [
    "data_dir = \"./data/train\"\n",
    "train_images = sorted(\n",
    "    glob.glob(os.path.join(data_dir, \"data\", \"*.nii.gz\")))\n",
    "\n",
    "train_labels = sorted(\n",
    "    glob.glob(os.path.join(data_dir, \"label\", \"*.nii.gz\")))\n",
    "\n",
    "data_dicts = [\n",
    "    {\"image\": image_name, \"label\": label_name}\n",
    "    for image_name, label_name in zip(train_images, train_labels)\n",
    "]\n",
    "\n",
    "train_files, val_files = data_dicts[:-9], data_dicts[-9:]"
   ]
  },
  {
   "cell_type": "code",
   "execution_count": 6,
   "metadata": {
    "id": "bovRu-C-TH_s"
   },
   "outputs": [],
   "source": [
    "set_determinism(seed=0)"
   ]
  },
  {
   "cell_type": "markdown",
   "metadata": {},
   "source": [
    "### Definition of Data Transforms"
   ]
  },
  {
   "cell_type": "code",
   "execution_count": 7,
   "metadata": {
    "id": "MfPFm7DxnxKk"
   },
   "outputs": [],
   "source": [
    "train_transforms = Compose(\n",
    "    [\n",
    "        LoadImaged(keys=[\"image\", \"label\"]),\n",
    "        EnsureChannelFirstd(keys=[\"image\", \"label\"]),\n",
    "        Orientationd(keys=[\"image\", \"label\"], axcodes=\"RAS\"),\n",
    "        Spacingd(keys=[\"image\", \"label\"], pixdim=(\n",
    "            1.5, 1.5, 2.0), mode=(\"bilinear\", \"nearest\")),\n",
    "        ScaleIntensityRanged(\n",
    "            keys=[\"image\"], a_min=0, a_max=80,\n",
    "            b_min=0.0, b_max=1.0, clip=True,\n",
    "        ),\n",
    "        CropForegroundd(keys=[\"image\", \"label\"], source_key=\"image\"),\n",
    "        RandCropByPosNegLabeld(\n",
    "            keys=[\"image\", \"label\"],\n",
    "            label_key=\"label\",\n",
    "            spatial_size=(96, 96, 48),\n",
    "            pos=1,\n",
    "            neg=1,\n",
    "            num_samples=4,\n",
    "            image_key=\"image\",\n",
    "            image_threshold=0,\n",
    "        ),\n",
    "        RandAffined(\n",
    "            keys=['image', 'label'],\n",
    "            mode=('bilinear', 'nearest'),\n",
    "            prob=1.0, spatial_size=(96, 96, 48),\n",
    "            rotate_range=(0, 0, np.pi/15),\n",
    "            scale_range=(0.1, 0.1, 0.1)),\n",
    "        EnsureTyped(keys=[\"image\", \"label\"]),\n",
    "    ]\n",
    ")\n",
    "\n",
    "val_transforms = Compose(\n",
    "    [\n",
    "        LoadImaged(keys=[\"image\", \"label\"]),\n",
    "        EnsureChannelFirstd(keys=[\"image\", \"label\"]),\n",
    "        Orientationd(keys=[\"image\", \"label\"], axcodes=\"RAS\"),\n",
    "        Spacingd(keys=[\"image\", \"label\"], pixdim=(\n",
    "            1.5, 1.5, 2.0), mode=(\"bilinear\", \"nearest\")),\n",
    "        ScaleIntensityRanged(\n",
    "            keys=[\"image\"], a_min=0, a_max=80,\n",
    "            b_min=0.0, b_max=1.0, clip=True,\n",
    "        ),\n",
    "        CropForegroundd(keys=[\"image\", \"label\"], source_key=\"image\"),\n",
    "        EnsureTyped(keys=[\"image\", \"label\"]),\n",
    "    ]\n",
    ")"
   ]
  },
  {
   "cell_type": "markdown",
   "metadata": {},
   "source": [
    "### Testing with Basic Dataloader"
   ]
  },
  {
   "cell_type": "code",
   "execution_count": 8,
   "metadata": {
    "colab": {
     "base_uri": "https://localhost:8080/"
    },
    "id": "P_Jlj_70Xo_E",
    "outputId": "4b4aeee3-bacb-4206-8f5c-5d3abd20327c",
    "scrolled": false
   },
   "outputs": [
    {
     "name": "stdout",
     "output_type": "stream",
     "text": [
      "Dataloader Batch Dimensions =  torch.Size([8, 1, 96, 96, 48])\n",
      "Original Scan Shape = torch.Size([96, 96, 48]), \n",
      "Segmented Scan Shape = torch.Size([96, 96, 48])\n",
      "Unique Segmentation Mask Values =  [0. 1.]\n",
      "Index = 2, Scan = 18\n"
     ]
    },
    {
     "data": {
      "image/png": "[encoded data removed]",
      "text/plain": [
       "<Figure size 720x720 with 2 Axes>"
      ]
     },
     "metadata": {
      "needs_background": "light"
     },
     "output_type": "display_data"
    }
   ],
   "source": [
    "idx = 2\n",
    "scan = 18\n",
    "\n",
    "check_ds = Dataset(data=train_files, transform=train_transforms)\n",
    "check_loader = DataLoader(check_ds, batch_size=2)\n",
    "check_data = first(check_loader)\n",
    "image, label = (check_data[\"image\"][idx][0], check_data[\"label\"][idx][0])\n",
    "\n",
    "print(\"Dataloader Batch Dimensions = \", check_data[\"image\"].shape)\n",
    "print(f\"Original Scan Shape = {image.shape}, \\nSegmented Scan Shape = {label.shape}\")\n",
    "print(\"Unique Segmentation Mask Values = \", np.unique(label[:, :, scan]))\n",
    "\n",
    "print(\"Index = %d, Scan = %d\" % (idx, scan))\n",
    "plt.figure(\"Testing\", (10, 10))\n",
    "plt.subplot(1, 2, 1)\n",
    "plt.title(\"Original NCCT Scan\")\n",
    "plt.imshow(image[:, :, scan], cmap=\"gray\")\n",
    "\n",
    "plt.subplot(1, 2, 2)\n",
    "plt.title(\"Segmentation\")\n",
    "plt.imshow(label[:, :, scan], cmap=\"gray\")\n",
    "plt.show()"
   ]
  },
  {
   "cell_type": "markdown",
   "metadata": {},
   "source": [
    "### Train and Validation Dataloaders"
   ]
  },
  {
   "cell_type": "code",
   "execution_count": 9,
   "metadata": {
    "colab": {
     "base_uri": "https://localhost:8080/"
    },
    "id": "FanaQ8R4Yqzs",
    "outputId": "f8b24499-cdfa-43af-e09a-59258f076d24"
   },
   "outputs": [
    {
     "name": "stderr",
     "output_type": "stream",
     "text": [
      "Loading dataset: 100%|██████████████████████████| 91/91 [00:22<00:00,  4.00it/s]\n",
      "Loading dataset: 100%|████████████████████████████| 9/9 [00:02<00:00,  3.70it/s]\n"
     ]
    }
   ],
   "source": [
    "train_batch_size = 4\n",
    "val_batch_size = 1\n",
    "\n",
    "# train_ds = Dataset(data=train_files, transform=train_transforms)\n",
    "train_ds = CacheDataset(data=train_files, transform=train_transforms, cache_rate=1.0, num_workers=4)\n",
    "\n",
    "# use batch_size=2 to load images and use RandCropByPosNegLabeld\n",
    "# to generate 2 x 4 images for network training\n",
    "train_loader = DataLoader(train_ds, batch_size=train_batch_size, shuffle=True, num_workers=4)\n",
    "\n",
    "# val_ds = Dataset(data=val_files, transform=val_transforms)\n",
    "val_ds = CacheDataset(data=val_files, transform=val_transforms, cache_rate=1.0, num_workers=4)\n",
    "val_loader = DataLoader(val_ds, batch_size=val_batch_size, num_workers=4)"
   ]
  },
  {
   "cell_type": "markdown",
   "metadata": {},
   "source": [
    "### UNet Architecture Definition"
   ]
  },
  {
   "cell_type": "code",
   "execution_count": 10,
   "metadata": {
    "id": "vyUvE-vEpNNp"
   },
   "outputs": [
    {
     "ename": "NameError",
     "evalue": "name 'Input' is not defined",
     "output_type": "error",
     "traceback": [
      "\u001b[0;31m---------------------------------------------------------------------------\u001b[0m",
      "\u001b[0;31mNameError\u001b[0m                                 Traceback (most recent call last)",
      "Input \u001b[0;32mIn [10]\u001b[0m, in \u001b[0;36m<cell line: 54>\u001b[0;34m()\u001b[0m\n\u001b[1;32m     50\u001b[0m     output_layer \u001b[38;5;241m=\u001b[39m Conv2D(\u001b[38;5;241m1\u001b[39m, (\u001b[38;5;241m1\u001b[39m,\u001b[38;5;241m1\u001b[39m), padding\u001b[38;5;241m=\u001b[39m\u001b[38;5;124m\"\u001b[39m\u001b[38;5;124msame\u001b[39m\u001b[38;5;124m\"\u001b[39m, activation\u001b[38;5;241m=\u001b[39m\u001b[38;5;124m\"\u001b[39m\u001b[38;5;124msigmoid\u001b[39m\u001b[38;5;124m\"\u001b[39m)(uconv1)\n\u001b[1;32m     52\u001b[0m     \u001b[38;5;28;01mreturn\u001b[39;00m output_layer\n\u001b[0;32m---> 54\u001b[0m input_layer \u001b[38;5;241m=\u001b[39m \u001b[43mInput\u001b[49m((img_size_target, img_size_target, \u001b[38;5;241m1\u001b[39m))\n\u001b[1;32m     55\u001b[0m output_layer \u001b[38;5;241m=\u001b[39m build_model(input_layer, \u001b[38;5;241m16\u001b[39m)\n",
      "\u001b[0;31mNameError\u001b[0m: name 'Input' is not defined"
     ]
    }
   ],
   "source": [
    "def build_model(input_layer, start_neurons):\n",
    "    conv1 = Conv2D(start_neurons * 1, (3, 3), activation=\"relu\", padding=\"same\")(input_layer)\n",
    "    conv1 = Conv2D(start_neurons * 1, (3, 3), activation=\"relu\", padding=\"same\")(conv1)\n",
    "    pool1 = MaxPooling2D((2, 2))(conv1)\n",
    "    pool1 = Dropout(0.25)(pool1)\n",
    "\n",
    "    conv2 = Conv2D(start_neurons * 2, (3, 3), activation=\"relu\", padding=\"same\")(pool1)\n",
    "    conv2 = Conv2D(start_neurons * 2, (3, 3), activation=\"relu\", padding=\"same\")(conv2)\n",
    "    pool2 = MaxPooling2D((2, 2))(conv2)\n",
    "    pool2 = Dropout(0.5)(pool2)\n",
    "\n",
    "    conv3 = Conv2D(start_neurons * 4, (3, 3), activation=\"relu\", padding=\"same\")(pool2)\n",
    "    conv3 = Conv2D(start_neurons * 4, (3, 3), activation=\"relu\", padding=\"same\")(conv3)\n",
    "    pool3 = MaxPooling2D((2, 2))(conv3)\n",
    "    pool3 = Dropout(0.5)(pool3)\n",
    "\n",
    "    conv4 = Conv2D(start_neurons * 8, (3, 3), activation=\"relu\", padding=\"same\")(pool3)\n",
    "    conv4 = Conv2D(start_neurons * 8, (3, 3), activation=\"relu\", padding=\"same\")(conv4)\n",
    "    pool4 = MaxPooling2D((2, 2))(conv4)\n",
    "    pool4 = Dropout(0.5)(pool4)\n",
    "\n",
    "    # Bottleneck\n",
    "    convm = Conv2D(start_neurons * 16, (3, 3), activation=\"relu\", padding=\"same\")(pool4)\n",
    "    convm = Conv2D(start_neurons * 16, (3, 3), activation=\"relu\", padding=\"same\")(convm)\n",
    "    \n",
    "    deconv4 = Conv2DTranspose(start_neurons * 8, (3, 3), strides=(2, 2), padding=\"same\")(convm)\n",
    "    uconv4 = concatenate([deconv4, conv4])\n",
    "    uconv4 = Dropout(0.5)(uconv4)\n",
    "    uconv4 = Conv2D(start_neurons * 8, (3, 3), activation=\"relu\", padding=\"same\")(uconv4)\n",
    "    uconv4 = Conv2D(start_neurons * 8, (3, 3), activation=\"relu\", padding=\"same\")(uconv4)\n",
    "\n",
    "    deconv3 = Conv2DTranspose(start_neurons * 4, (3, 3), strides=(2, 2), padding=\"same\")(uconv4)\n",
    "    uconv3 = concatenate([deconv3, conv3])\n",
    "    uconv3 = Dropout(0.5)(uconv3)\n",
    "    uconv3 = Conv2D(start_neurons * 4, (3, 3), activation=\"relu\", padding=\"same\")(uconv3)\n",
    "    uconv3 = Conv2D(start_neurons * 4, (3, 3), activation=\"relu\", padding=\"same\")(uconv3)\n",
    "\n",
    "    deconv2 = Conv2DTranspose(start_neurons * 2, (3, 3), strides=(2, 2), padding=\"same\")(uconv3)\n",
    "    uconv2 = concatenate([deconv2, conv2])\n",
    "    uconv2 = Dropout(0.5)(uconv2)\n",
    "    uconv2 = Conv2D(start_neurons * 2, (3, 3), activation=\"relu\", padding=\"same\")(uconv2)\n",
    "    uconv2 = Conv2D(start_neurons * 2, (3, 3), activation=\"relu\", padding=\"same\")(uconv2)\n",
    "\n",
    "    deconv1 = Conv2DTranspose(start_neurons * 1, (3, 3), strides=(2, 2), padding=\"same\")(uconv2)\n",
    "    uconv1 = concatenate([deconv1, conv1])\n",
    "    uconv1 = Dropout(0.5)(uconv1)\n",
    "    uconv1 = Conv2D(start_neurons * 1, (3, 3), activation=\"relu\", padding=\"same\")(uconv1)\n",
    "    uconv1 = Conv2D(start_neurons * 1, (3, 3), activation=\"relu\", padding=\"same\")(uconv1)\n",
    "    \n",
    "    output_layer = Conv2D(1, (1,1), padding=\"same\", activation=\"sigmoid\")(uconv1)\n",
    "    \n",
    "    return output_layer\n",
    "\n",
    "input_layer = Input((img_size_target, img_size_target, 1))\n",
    "output_layer = build_model(input_layer, 16)"
   ]
  },
  {
   "cell_type": "markdown",
   "metadata": {},
   "source": [
    "### Defining Training Essentials"
   ]
  },
  {
   "cell_type": "code",
   "execution_count": 11,
   "metadata": {
    "id": "5n-d5BcWZaIe"
   },
   "outputs": [],
   "source": [
    "device = torch.device(\"cuda:0\" if torch.cuda.is_available() else \"cpu\")\n",
    "num_res_units = 2\n",
    "model = UNet(\n",
    "    spatial_dims=3,\n",
    "    in_channels=1,\n",
    "    out_channels=2,\n",
    "    channels=(16, 32, 64, 128, 256),\n",
    "    strides=(2, 2, 2, 2),\n",
    "    num_res_units=num_res_units,\n",
    "    norm=Norm.BATCH,\n",
    ").to(device)\n",
    "loss_function = DiceLoss(to_onehot_y=True, softmax=True)\n",
    "optimizer = torch.optim.Adam(model.parameters(), 1e-4)\n",
    "dice_metric = DiceMetric(include_background=False, reduction=\"mean\")"
   ]
  },
  {
   "cell_type": "markdown",
   "metadata": {},
   "source": [
    "### Defining Training Hyperparameters"
   ]
  },
  {
   "cell_type": "code",
   "execution_count": 12,
   "metadata": {
    "id": "OVlrJtvaabGG"
   },
   "outputs": [],
   "source": [
    "max_epochs = 100\n",
    "val_interval = 1\n",
    "best_metric = -1\n",
    "best_metric_epoch = -1\n",
    "epoch_loss_values = []\n",
    "metric_values = []\n",
    "post_pred = Compose([EnsureType(), AsDiscrete(argmax=True, to_onehot=2)])\n",
    "post_label = Compose([EnsureType(), AsDiscrete(to_onehot=2)])\n",
    "\n",
    "wandb.config = {\n",
    "    \"epochs\": max_epochs,\n",
    "    \"batch_size\": train_batch_size,\n",
    "    \"num_res_units\": num_res_units\n",
    "}"
   ]
  },
  {
   "cell_type": "markdown",
   "metadata": {},
   "source": [
    "### Training Loop"
   ]
  },
  {
   "cell_type": "code",
   "execution_count": null,
   "metadata": {
    "id": "0fLtGWmIbP4f",
    "scrolled": true
   },
   "outputs": [
    {
     "name": "stderr",
     "output_type": "stream",
     "text": [
      "\r",
      "  0%|                                                   | 0/100 [00:00<?, ?it/s]"
     ]
    },
    {
     "name": "stdout",
     "output_type": "stream",
     "text": [
      "----------\n",
      "epoch 1/100\n"
     ]
    },
    {
     "name": "stderr",
     "output_type": "stream",
     "text": [
      "\n",
      "  0%|                                                    | 0/23 [00:00<?, ?it/s]\u001b[A\n",
      "  4%|█▉                                          | 1/23 [00:06<02:29,  6.81s/it]\u001b[A\n",
      "  9%|███▊                                        | 2/23 [00:10<01:43,  4.92s/it]\u001b[A\n",
      " 13%|█████▋                                      | 3/23 [00:14<01:26,  4.32s/it]\u001b[A\n",
      " 17%|███████▋                                    | 4/23 [00:17<01:16,  4.05s/it]\u001b[A\n",
      " 22%|█████████▌                                  | 5/23 [00:21<01:11,  3.97s/it]\u001b[A\n",
      " 26%|███████████▍                                | 6/23 [00:25<01:06,  3.93s/it]\u001b[A\n",
      " 30%|█████████████▍                              | 7/23 [00:29<01:01,  3.85s/it]\u001b[A\n",
      " 35%|███████████████▎                            | 8/23 [00:32<00:56,  3.78s/it]\u001b[A\n",
      " 39%|█████████████████▏                          | 9/23 [00:36<00:53,  3.83s/it]\u001b[A\n",
      " 43%|██████████████████▋                        | 10/23 [00:40<00:49,  3.83s/it]\u001b[A\n",
      " 48%|████████████████████▌                      | 11/23 [00:43<00:44,  3.75s/it]\u001b[A\n",
      " 52%|██████████████████████▍                    | 12/23 [00:47<00:40,  3.72s/it]\u001b[A\n",
      " 57%|████████████████████████▎                  | 13/23 [00:51<00:37,  3.70s/it]\u001b[A\n",
      " 61%|██████████████████████████▏                | 14/23 [00:54<00:32,  3.65s/it]\u001b[A\n",
      " 65%|████████████████████████████               | 15/23 [00:58<00:28,  3.60s/it]\u001b[A\n",
      " 70%|█████████████████████████████▉             | 16/23 [01:01<00:24,  3.49s/it]\u001b[A\n",
      " 74%|███████████████████████████████▊           | 17/23 [01:04<00:20,  3.42s/it]\u001b[A\n",
      " 78%|█████████████████████████████████▋         | 18/23 [01:07<00:16,  3.35s/it]\u001b[A\n",
      " 83%|███████████████████████████████████▌       | 19/23 [01:11<00:13,  3.26s/it]\u001b[A\n",
      " 87%|█████████████████████████████████████▍     | 20/23 [01:14<00:09,  3.24s/it]\u001b[A\n",
      " 91%|███████████████████████████████████████▎   | 21/23 [01:17<00:06,  3.20s/it]\u001b[A\n",
      " 96%|█████████████████████████████████████████▏ | 22/23 [01:20<00:03,  3.20s/it]\u001b[A\n",
      "100%|███████████████████████████████████████████| 23/23 [01:23<00:00,  3.62s/it]\u001b[A"
     ]
    },
    {
     "name": "stdout",
     "output_type": "stream",
     "text": [
      "epoch 1 average loss: 0.6707\n",
      "epoch time = 83.224861 seconds\n"
     ]
    },
    {
     "name": "stderr",
     "output_type": "stream",
     "text": [
      "\n",
      "  1%|▍                                        | 1/100 [01:30<2:28:51, 90.22s/it]"
     ]
    },
    {
     "name": "stdout",
     "output_type": "stream",
     "text": [
      "saved new best metric model\n",
      "current epoch: 1 current mean dice: 0.0160\n",
      "best mean dice: 0.0160 at epoch: 1\n",
      "----------\n",
      "epoch 2/100\n"
     ]
    },
    {
     "name": "stderr",
     "output_type": "stream",
     "text": [
      "\n",
      "  0%|                                                    | 0/23 [00:00<?, ?it/s]\u001b[A\n",
      "  4%|█▉                                          | 1/23 [00:06<02:26,  6.64s/it]\u001b[A\n",
      "  9%|███▊                                        | 2/23 [00:10<01:45,  5.03s/it]\u001b[A\n",
      " 13%|█████▋                                      | 3/23 [00:14<01:29,  4.48s/it]\u001b[A\n",
      " 17%|███████▋                                    | 4/23 [00:17<01:17,  4.07s/it]\u001b[A\n",
      " 22%|█████████▌                                  | 5/23 [00:21<01:10,  3.92s/it]\u001b[A\n",
      " 26%|███████████▍                                | 6/23 [00:24<01:04,  3.79s/it]\u001b[A\n",
      " 30%|█████████████▍                              | 7/23 [00:28<00:59,  3.73s/it]\u001b[A\n",
      " 35%|███████████████▎                            | 8/23 [00:32<00:55,  3.68s/it]\u001b[A\n",
      " 39%|█████████████████▏                          | 9/23 [00:35<00:51,  3.67s/it]\u001b[A\n",
      " 43%|██████████████████▋                        | 10/23 [00:39<00:47,  3.66s/it]\u001b[A\n",
      " 48%|████████████████████▌                      | 11/23 [00:43<00:44,  3.68s/it]\u001b[A\n",
      " 52%|██████████████████████▍                    | 12/23 [00:46<00:39,  3.63s/it]\u001b[A\n",
      " 57%|████████████████████████▎                  | 13/23 [00:50<00:35,  3.59s/it]\u001b[A\n",
      " 61%|██████████████████████████▏                | 14/23 [00:53<00:31,  3.55s/it]\u001b[A\n",
      " 65%|████████████████████████████               | 15/23 [00:57<00:29,  3.65s/it]\u001b[A\n",
      " 70%|█████████████████████████████▉             | 16/23 [01:00<00:24,  3.52s/it]\u001b[A\n",
      " 74%|███████████████████████████████▊           | 17/23 [01:03<00:20,  3.41s/it]\u001b[A\n",
      " 78%|█████████████████████████████████▋         | 18/23 [01:07<00:16,  3.36s/it]\u001b[A\n",
      " 83%|███████████████████████████████████▌       | 19/23 [01:10<00:13,  3.35s/it]\u001b[A\n",
      " 87%|█████████████████████████████████████▍     | 20/23 [01:13<00:10,  3.35s/it]\u001b[A\n",
      " 91%|███████████████████████████████████████▎   | 21/23 [01:17<00:06,  3.37s/it]\u001b[A\n",
      " 96%|█████████████████████████████████████████▏ | 22/23 [01:20<00:03,  3.35s/it]\u001b[A\n",
      "100%|███████████████████████████████████████████| 23/23 [01:23<00:00,  3.61s/it]\u001b[A"
     ]
    },
    {
     "name": "stdout",
     "output_type": "stream",
     "text": [
      "epoch 2 average loss: 0.6486\n",
      "epoch time = 83.017658 seconds\n"
     ]
    },
    {
     "name": "stderr",
     "output_type": "stream",
     "text": [
      "\n",
      "  2%|▊                                        | 2/100 [03:00<2:27:21, 90.22s/it]"
     ]
    },
    {
     "name": "stdout",
     "output_type": "stream",
     "text": [
      "saved new best metric model\n",
      "current epoch: 2 current mean dice: 0.0187\n",
      "best mean dice: 0.0187 at epoch: 2\n",
      "----------\n",
      "epoch 3/100\n"
     ]
    },
    {
     "name": "stderr",
     "output_type": "stream",
     "text": [
      "\n",
      "  0%|                                                    | 0/23 [00:00<?, ?it/s]\u001b[A\n",
      "  4%|█▉                                          | 1/23 [00:07<02:39,  7.25s/it]\u001b[A\n",
      "  9%|███▊                                        | 2/23 [00:10<01:47,  5.13s/it]\u001b[A\n",
      " 13%|█████▋                                      | 3/23 [00:14<01:28,  4.42s/it]\u001b[A\n",
      " 17%|███████▋                                    | 4/23 [00:18<01:17,  4.08s/it]\u001b[A\n",
      " 22%|█████████▌                                  | 5/23 [00:21<01:09,  3.89s/it]\u001b[A\n",
      " 26%|███████████▍                                | 6/23 [00:25<01:04,  3.79s/it]\u001b[A\n",
      " 30%|█████████████▍                              | 7/23 [00:28<01:00,  3.77s/it]\u001b[A\n",
      " 35%|███████████████▎                            | 8/23 [00:32<00:55,  3.71s/it]\u001b[A\n",
      " 39%|█████████████████▏                          | 9/23 [00:35<00:50,  3.62s/it]\u001b[A\n",
      " 43%|██████████████████▋                        | 10/23 [00:39<00:46,  3.58s/it]\u001b[A\n",
      " 48%|████████████████████▌                      | 11/23 [00:42<00:42,  3.55s/it]\u001b[A\n",
      " 52%|██████████████████████▍                    | 12/23 [00:46<00:39,  3.58s/it]\u001b[A\n",
      " 57%|████████████████████████▎                  | 13/23 [00:51<00:38,  3.88s/it]\u001b[A\n",
      " 61%|██████████████████████████▏                | 14/23 [00:55<00:36,  4.04s/it]\u001b[A\n",
      " 65%|████████████████████████████               | 15/23 [00:59<00:31,  3.92s/it]\u001b[A\n",
      " 70%|█████████████████████████████▉             | 16/23 [01:02<00:26,  3.74s/it]\u001b[A\n",
      " 74%|███████████████████████████████▊           | 17/23 [01:05<00:21,  3.63s/it]\u001b[A\n",
      " 78%|█████████████████████████████████▋         | 18/23 [01:09<00:17,  3.56s/it]\u001b[A\n",
      " 83%|███████████████████████████████████▌       | 19/23 [01:12<00:13,  3.48s/it]\u001b[A\n",
      " 87%|█████████████████████████████████████▍     | 20/23 [01:15<00:10,  3.43s/it]\u001b[A\n",
      " 91%|███████████████████████████████████████▎   | 21/23 [01:19<00:06,  3.42s/it]\u001b[A\n",
      " 96%|█████████████████████████████████████████▏ | 22/23 [01:22<00:03,  3.39s/it]\u001b[A\n",
      "100%|███████████████████████████████████████████| 23/23 [01:25<00:00,  3.70s/it]\u001b[A"
     ]
    },
    {
     "name": "stdout",
     "output_type": "stream",
     "text": [
      "epoch 3 average loss: 0.6357\n",
      "epoch time = 85.156334 seconds\n"
     ]
    },
    {
     "name": "stderr",
     "output_type": "stream",
     "text": [
      "\n",
      "  3%|█▏                                       | 3/100 [04:32<2:27:25, 91.19s/it]"
     ]
    },
    {
     "name": "stdout",
     "output_type": "stream",
     "text": [
      "saved new best metric model\n",
      "current epoch: 3 current mean dice: 0.0219\n",
      "best mean dice: 0.0219 at epoch: 3\n",
      "----------\n",
      "epoch 4/100\n"
     ]
    },
    {
     "name": "stderr",
     "output_type": "stream",
     "text": [
      "\n",
      "  0%|                                                    | 0/23 [00:00<?, ?it/s]\u001b[A\n",
      "  4%|█▉                                          | 1/23 [00:06<02:26,  6.64s/it]\u001b[A\n",
      "  9%|███▊                                        | 2/23 [00:10<01:40,  4.80s/it]\u001b[A\n",
      " 13%|█████▋                                      | 3/23 [00:14<01:28,  4.45s/it]\u001b[A\n",
      " 17%|███████▋                                    | 4/23 [00:17<01:18,  4.14s/it]\u001b[A\n",
      " 22%|█████████▌                                  | 5/23 [00:21<01:11,  3.95s/it]\u001b[A\n",
      " 26%|███████████▍                                | 6/23 [00:25<01:05,  3.85s/it]\u001b[A\n",
      " 30%|█████████████▍                              | 7/23 [00:28<01:00,  3.76s/it]\u001b[A\n",
      " 35%|███████████████▎                            | 8/23 [00:32<00:56,  3.75s/it]\u001b[A\n",
      " 39%|█████████████████▏                          | 9/23 [00:36<00:52,  3.71s/it]\u001b[A\n",
      " 43%|██████████████████▋                        | 10/23 [00:39<00:48,  3.72s/it]\u001b[A\n",
      " 48%|████████████████████▌                      | 11/23 [00:43<00:44,  3.71s/it]\u001b[A\n",
      " 52%|██████████████████████▍                    | 12/23 [00:47<00:40,  3.69s/it]\u001b[A\n",
      " 57%|████████████████████████▎                  | 13/23 [00:50<00:36,  3.66s/it]\u001b[A\n",
      " 61%|██████████████████████████▏                | 14/23 [00:54<00:32,  3.65s/it]\u001b[A\n",
      " 65%|████████████████████████████               | 15/23 [00:57<00:29,  3.65s/it]\u001b[A\n",
      " 70%|█████████████████████████████▉             | 16/23 [01:01<00:24,  3.56s/it]\u001b[A\n",
      " 74%|███████████████████████████████▊           | 17/23 [01:04<00:20,  3.48s/it]\u001b[A\n",
      " 78%|█████████████████████████████████▋         | 18/23 [01:07<00:17,  3.41s/it]\u001b[A\n",
      " 83%|███████████████████████████████████▌       | 19/23 [01:11<00:13,  3.32s/it]\u001b[A\n",
      " 87%|█████████████████████████████████████▍     | 20/23 [01:14<00:09,  3.26s/it]\u001b[A\n",
      " 91%|███████████████████████████████████████▎   | 21/23 [01:18<00:06,  3.45s/it]\u001b[A\n",
      " 96%|█████████████████████████████████████████▏ | 22/23 [01:21<00:03,  3.45s/it]\u001b[A\n",
      "100%|███████████████████████████████████████████| 23/23 [01:24<00:00,  3.66s/it]\u001b[A"
     ]
    },
    {
     "name": "stdout",
     "output_type": "stream",
     "text": [
      "epoch 4 average loss: 0.6272\n",
      "epoch time = 84.297750 seconds\n"
     ]
    },
    {
     "name": "stderr",
     "output_type": "stream",
     "text": [
      "\n",
      "  4%|█▋                                       | 4/100 [06:04<2:26:06, 91.31s/it]"
     ]
    },
    {
     "name": "stdout",
     "output_type": "stream",
     "text": [
      "saved new best metric model\n",
      "current epoch: 4 current mean dice: 0.0238\n",
      "best mean dice: 0.0238 at epoch: 4\n",
      "----------\n",
      "epoch 5/100\n"
     ]
    },
    {
     "name": "stderr",
     "output_type": "stream",
     "text": [
      "\n",
      "  0%|                                                    | 0/23 [00:00<?, ?it/s]\u001b[A\n",
      "  4%|█▉                                          | 1/23 [00:06<02:25,  6.60s/it]\u001b[A\n",
      "  9%|███▊                                        | 2/23 [00:10<01:40,  4.79s/it]\u001b[A\n",
      " 13%|█████▋                                      | 3/23 [00:13<01:26,  4.33s/it]\u001b[A\n",
      " 17%|███████▋                                    | 4/23 [00:17<01:16,  4.02s/it]\u001b[A\n",
      " 22%|█████████▌                                  | 5/23 [00:21<01:09,  3.89s/it]\u001b[A\n",
      " 26%|███████████▍                                | 6/23 [00:24<01:05,  3.83s/it]\u001b[A\n",
      " 30%|█████████████▍                              | 7/23 [00:28<00:59,  3.74s/it]\u001b[A\n",
      " 35%|███████████████▎                            | 8/23 [00:32<00:55,  3.72s/it]\u001b[A\n",
      " 39%|█████████████████▏                          | 9/23 [00:35<00:52,  3.72s/it]\u001b[A\n",
      " 43%|██████████████████▋                        | 10/23 [00:39<00:47,  3.68s/it]\u001b[A\n",
      " 48%|████████████████████▌                      | 11/23 [00:43<00:43,  3.67s/it]\u001b[A\n",
      " 52%|██████████████████████▍                    | 12/23 [00:46<00:40,  3.66s/it]\u001b[A\n",
      " 57%|████████████████████████▎                  | 13/23 [00:50<00:36,  3.68s/it]\u001b[A\n",
      " 61%|██████████████████████████▏                | 14/23 [00:53<00:32,  3.64s/it]\u001b[A\n",
      " 65%|████████████████████████████               | 15/23 [00:57<00:29,  3.66s/it]\u001b[A\n",
      " 70%|█████████████████████████████▉             | 16/23 [01:00<00:24,  3.52s/it]\u001b[A\n",
      " 74%|███████████████████████████████▊           | 17/23 [01:03<00:20,  3.38s/it]\u001b[A\n",
      " 78%|█████████████████████████████████▋         | 18/23 [01:06<00:16,  3.30s/it]\u001b[A\n",
      " 83%|███████████████████████████████████▌       | 19/23 [01:10<00:13,  3.29s/it]\u001b[A\n",
      " 87%|█████████████████████████████████████▍     | 20/23 [01:13<00:10,  3.34s/it]\u001b[A\n",
      " 91%|███████████████████████████████████████▎   | 21/23 [01:16<00:06,  3.31s/it]\u001b[A\n",
      " 96%|█████████████████████████████████████████▏ | 22/23 [01:20<00:03,  3.26s/it]\u001b[A\n",
      "100%|███████████████████████████████████████████| 23/23 [01:22<00:00,  3.60s/it]\u001b[A"
     ]
    },
    {
     "name": "stdout",
     "output_type": "stream",
     "text": [
      "epoch 5 average loss: 0.6192\n",
      "epoch time = 82.754485 seconds\n"
     ]
    },
    {
     "name": "stderr",
     "output_type": "stream",
     "text": [
      "\n",
      "  5%|██                                       | 5/100 [07:34<2:23:41, 90.75s/it]"
     ]
    },
    {
     "name": "stdout",
     "output_type": "stream",
     "text": [
      "saved new best metric model\n",
      "current epoch: 5 current mean dice: 0.0261\n",
      "best mean dice: 0.0261 at epoch: 5\n",
      "----------\n",
      "epoch 6/100\n"
     ]
    },
    {
     "name": "stderr",
     "output_type": "stream",
     "text": [
      "\n",
      "  0%|                                                    | 0/23 [00:00<?, ?it/s]\u001b[A\n",
      "  4%|█▉                                          | 1/23 [00:06<02:22,  6.46s/it]\u001b[A\n",
      "  9%|███▊                                        | 2/23 [00:10<01:41,  4.81s/it]\u001b[A\n",
      " 13%|█████▋                                      | 3/23 [00:13<01:26,  4.32s/it]\u001b[A\n",
      " 17%|███████▋                                    | 4/23 [00:17<01:17,  4.06s/it]\u001b[A\n",
      " 22%|█████████▌                                  | 5/23 [00:21<01:11,  3.94s/it]\u001b[A\n",
      " 26%|███████████▍                                | 6/23 [00:25<01:06,  3.90s/it]\u001b[A\n",
      " 30%|█████████████▍                              | 7/23 [00:28<01:01,  3.83s/it]\u001b[A\n",
      " 35%|███████████████▎                            | 8/23 [00:32<00:57,  3.85s/it]\u001b[A\n",
      " 39%|█████████████████▏                          | 9/23 [00:36<00:53,  3.80s/it]\u001b[A\n",
      " 43%|██████████████████▋                        | 10/23 [00:40<00:49,  3.78s/it]\u001b[A\n",
      " 48%|████████████████████▌                      | 11/23 [00:43<00:45,  3.77s/it]\u001b[A\n",
      " 52%|██████████████████████▍                    | 12/23 [00:47<00:41,  3.77s/it]\u001b[A\n",
      " 57%|████████████████████████▎                  | 13/23 [00:51<00:36,  3.70s/it]\u001b[A\n",
      " 61%|██████████████████████████▏                | 14/23 [00:54<00:33,  3.67s/it]\u001b[A\n",
      " 65%|████████████████████████████               | 15/23 [00:58<00:29,  3.64s/it]\u001b[A\n",
      " 70%|█████████████████████████████▉             | 16/23 [01:01<00:25,  3.62s/it]\u001b[A\n",
      " 74%|███████████████████████████████▊           | 17/23 [01:05<00:21,  3.60s/it]\u001b[A\n",
      " 78%|█████████████████████████████████▋         | 18/23 [01:08<00:17,  3.55s/it]\u001b[A\n",
      " 83%|███████████████████████████████████▌       | 19/23 [01:12<00:14,  3.55s/it]\u001b[A\n",
      " 87%|█████████████████████████████████████▍     | 20/23 [01:15<00:10,  3.47s/it]\u001b[A\n",
      " 91%|███████████████████████████████████████▎   | 21/23 [01:18<00:06,  3.38s/it]\u001b[A\n",
      " 96%|█████████████████████████████████████████▏ | 22/23 [01:22<00:03,  3.35s/it]\u001b[A\n",
      "100%|███████████████████████████████████████████| 23/23 [01:24<00:00,  3.69s/it]\u001b[A"
     ]
    },
    {
     "name": "stdout",
     "output_type": "stream",
     "text": [
      "epoch 6 average loss: 0.6116\n",
      "epoch time = 84.836042 seconds\n"
     ]
    },
    {
     "name": "stderr",
     "output_type": "stream",
     "text": [
      "\n",
      "  6%|██▍                                      | 6/100 [09:06<2:23:12, 91.41s/it]"
     ]
    },
    {
     "name": "stdout",
     "output_type": "stream",
     "text": [
      "saved new best metric model\n",
      "current epoch: 6 current mean dice: 0.0282\n",
      "best mean dice: 0.0282 at epoch: 6\n",
      "----------\n",
      "epoch 7/100\n"
     ]
    },
    {
     "name": "stderr",
     "output_type": "stream",
     "text": [
      "\n",
      "  0%|                                                    | 0/23 [00:00<?, ?it/s]\u001b[A\n",
      "  4%|█▉                                          | 1/23 [00:06<02:27,  6.71s/it]\u001b[A\n",
      "  9%|███▊                                        | 2/23 [00:10<01:44,  4.98s/it]\u001b[A\n",
      " 13%|█████▋                                      | 3/23 [00:14<01:27,  4.35s/it]\u001b[A\n",
      " 17%|███████▋                                    | 4/23 [00:17<01:15,  3.99s/it]\u001b[A\n",
      " 22%|█████████▌                                  | 5/23 [00:21<01:09,  3.84s/it]\u001b[A\n",
      " 26%|███████████▍                                | 6/23 [00:24<01:03,  3.76s/it]\u001b[A\n",
      " 30%|█████████████▍                              | 7/23 [00:28<00:59,  3.70s/it]\u001b[A\n",
      " 35%|███████████████▎                            | 8/23 [00:31<00:55,  3.69s/it]\u001b[A\n",
      " 39%|█████████████████▏                          | 9/23 [00:35<00:50,  3.63s/it]\u001b[A\n",
      " 43%|██████████████████▋                        | 10/23 [00:39<00:47,  3.64s/it]\u001b[A\n",
      " 48%|████████████████████▌                      | 11/23 [00:42<00:43,  3.62s/it]\u001b[A\n",
      " 52%|██████████████████████▍                    | 12/23 [00:46<00:39,  3.60s/it]\u001b[A\n",
      " 57%|████████████████████████▎                  | 13/23 [00:49<00:35,  3.57s/it]\u001b[A\n",
      " 61%|██████████████████████████▏                | 14/23 [00:53<00:31,  3.54s/it]\u001b[A\n",
      " 65%|████████████████████████████               | 15/23 [00:56<00:28,  3.57s/it]\u001b[A\n",
      " 70%|█████████████████████████████▉             | 16/23 [01:00<00:24,  3.50s/it]\u001b[A\n",
      " 74%|███████████████████████████████▊           | 17/23 [01:03<00:20,  3.48s/it]\u001b[A\n",
      " 78%|█████████████████████████████████▋         | 18/23 [01:07<00:17,  3.48s/it]\u001b[A\n",
      " 83%|███████████████████████████████████▌       | 19/23 [01:10<00:13,  3.48s/it]\u001b[A\n",
      " 87%|█████████████████████████████████████▍     | 20/23 [01:13<00:10,  3.36s/it]\u001b[A\n",
      " 91%|███████████████████████████████████████▎   | 21/23 [01:16<00:06,  3.29s/it]\u001b[A\n",
      " 96%|█████████████████████████████████████████▏ | 22/23 [01:19<00:03,  3.23s/it]\u001b[A\n",
      "100%|███████████████████████████████████████████| 23/23 [01:22<00:00,  3.58s/it]\u001b[A"
     ]
    },
    {
     "name": "stdout",
     "output_type": "stream",
     "text": [
      "epoch 7 average loss: 0.6051\n",
      "epoch time = 82.339058 seconds\n"
     ]
    },
    {
     "name": "stderr",
     "output_type": "stream",
     "text": [
      "\n",
      "  7%|██▊                                      | 7/100 [10:36<2:20:36, 90.72s/it]"
     ]
    },
    {
     "name": "stdout",
     "output_type": "stream",
     "text": [
      "saved new best metric model\n",
      "current epoch: 7 current mean dice: 0.0309\n",
      "best mean dice: 0.0309 at epoch: 7\n",
      "----------\n",
      "epoch 8/100\n"
     ]
    },
    {
     "name": "stderr",
     "output_type": "stream",
     "text": [
      "\n",
      "  0%|                                                    | 0/23 [00:00<?, ?it/s]\u001b[A\n",
      "  4%|█▉                                          | 1/23 [00:06<02:23,  6.52s/it]\u001b[A\n",
      "  9%|███▊                                        | 2/23 [00:10<01:40,  4.77s/it]\u001b[A\n",
      " 13%|█████▋                                      | 3/23 [00:13<01:23,  4.18s/it]\u001b[A\n",
      " 17%|███████▋                                    | 4/23 [00:16<01:13,  3.88s/it]\u001b[A\n",
      " 22%|█████████▌                                  | 5/23 [00:20<01:07,  3.76s/it]\u001b[A\n",
      " 26%|███████████▍                                | 6/23 [00:24<01:03,  3.72s/it]\u001b[A\n",
      " 30%|█████████████▍                              | 7/23 [00:27<00:57,  3.62s/it]\u001b[A\n",
      " 35%|███████████████▎                            | 8/23 [00:30<00:53,  3.55s/it]\u001b[A\n",
      " 39%|█████████████████▏                          | 9/23 [00:34<00:49,  3.55s/it]\u001b[A\n",
      " 43%|██████████████████▋                        | 10/23 [00:38<00:46,  3.60s/it]\u001b[A\n",
      " 48%|████████████████████▌                      | 11/23 [00:41<00:43,  3.64s/it]\u001b[A\n",
      " 52%|██████████████████████▍                    | 12/23 [00:45<00:40,  3.66s/it]\u001b[A\n",
      " 57%|████████████████████████▎                  | 13/23 [00:49<00:35,  3.59s/it]\u001b[A\n",
      " 61%|██████████████████████████▏                | 14/23 [00:52<00:31,  3.55s/it]\u001b[A\n",
      " 65%|████████████████████████████               | 15/23 [00:56<00:28,  3.53s/it]\u001b[A\n",
      " 70%|█████████████████████████████▉             | 16/23 [00:59<00:23,  3.41s/it]\u001b[A\n",
      " 74%|███████████████████████████████▊           | 17/23 [01:02<00:19,  3.33s/it]\u001b[A\n",
      " 78%|█████████████████████████████████▋         | 18/23 [01:05<00:16,  3.26s/it]\u001b[A\n",
      " 83%|███████████████████████████████████▌       | 19/23 [01:08<00:13,  3.27s/it]\u001b[A\n",
      " 87%|█████████████████████████████████████▍     | 20/23 [01:11<00:09,  3.22s/it]\u001b[A\n",
      " 91%|███████████████████████████████████████▎   | 21/23 [01:14<00:06,  3.19s/it]\u001b[A\n",
      " 96%|█████████████████████████████████████████▏ | 22/23 [01:18<00:03,  3.19s/it]\u001b[A\n",
      "100%|███████████████████████████████████████████| 23/23 [01:20<00:00,  3.50s/it]\u001b[A"
     ]
    },
    {
     "name": "stdout",
     "output_type": "stream",
     "text": [
      "epoch 8 average loss: 0.5978\n",
      "epoch time = 80.589862 seconds\n"
     ]
    },
    {
     "name": "stderr",
     "output_type": "stream",
     "text": [
      "\n",
      "  8%|███▎                                     | 8/100 [12:03<2:17:34, 89.72s/it]"
     ]
    },
    {
     "name": "stdout",
     "output_type": "stream",
     "text": [
      "saved new best metric model\n",
      "current epoch: 8 current mean dice: 0.0367\n",
      "best mean dice: 0.0367 at epoch: 8\n",
      "----------\n",
      "epoch 9/100\n"
     ]
    },
    {
     "name": "stderr",
     "output_type": "stream",
     "text": [
      "\n",
      "  0%|                                                    | 0/23 [00:00<?, ?it/s]\u001b[A\n",
      "  4%|█▉                                          | 1/23 [00:06<02:25,  6.60s/it]\u001b[A\n",
      "  9%|███▊                                        | 2/23 [00:10<01:39,  4.74s/it]\u001b[A\n",
      " 13%|█████▋                                      | 3/23 [00:13<01:23,  4.20s/it]\u001b[A\n",
      " 17%|███████▋                                    | 4/23 [00:17<01:14,  3.91s/it]\u001b[A\n",
      " 22%|█████████▌                                  | 5/23 [00:20<01:07,  3.78s/it]\u001b[A\n",
      " 26%|███████████▍                                | 6/23 [00:24<01:02,  3.65s/it]\u001b[A\n",
      " 30%|█████████████▍                              | 7/23 [00:27<00:57,  3.60s/it]\u001b[A\n",
      " 35%|███████████████▎                            | 8/23 [00:30<00:53,  3.54s/it]\u001b[A\n",
      " 39%|█████████████████▏                          | 9/23 [00:34<00:49,  3.56s/it]\u001b[A\n",
      " 43%|██████████████████▋                        | 10/23 [00:38<00:46,  3.56s/it]\u001b[A\n",
      " 48%|████████████████████▌                      | 11/23 [00:41<00:42,  3.56s/it]\u001b[A\n",
      " 52%|██████████████████████▍                    | 12/23 [00:45<00:38,  3.53s/it]\u001b[A\n",
      " 57%|████████████████████████▎                  | 13/23 [00:48<00:34,  3.49s/it]\u001b[A\n",
      " 61%|██████████████████████████▏                | 14/23 [00:52<00:31,  3.52s/it]\u001b[A\n",
      " 65%|████████████████████████████               | 15/23 [00:55<00:27,  3.47s/it]\u001b[A\n",
      " 70%|█████████████████████████████▉             | 16/23 [00:58<00:23,  3.37s/it]\u001b[A\n",
      " 74%|███████████████████████████████▊           | 17/23 [01:01<00:19,  3.27s/it]\u001b[A\n",
      " 78%|█████████████████████████████████▋         | 18/23 [01:04<00:15,  3.20s/it]\u001b[A\n",
      " 83%|███████████████████████████████████▌       | 19/23 [01:07<00:12,  3.14s/it]\u001b[A\n",
      " 87%|█████████████████████████████████████▍     | 20/23 [01:10<00:09,  3.14s/it]\u001b[A\n",
      " 91%|███████████████████████████████████████▎   | 21/23 [01:13<00:06,  3.16s/it]\u001b[A\n",
      " 96%|█████████████████████████████████████████▏ | 22/23 [01:17<00:03,  3.12s/it]\u001b[A\n",
      "100%|███████████████████████████████████████████| 23/23 [01:19<00:00,  3.46s/it]\u001b[A"
     ]
    },
    {
     "name": "stdout",
     "output_type": "stream",
     "text": [
      "epoch 9 average loss: 0.5913\n",
      "epoch time = 79.482815 seconds\n"
     ]
    },
    {
     "name": "stderr",
     "output_type": "stream",
     "text": [
      "\n",
      "  9%|███▋                                     | 9/100 [13:30<2:14:49, 88.90s/it]"
     ]
    },
    {
     "name": "stdout",
     "output_type": "stream",
     "text": [
      "saved new best metric model\n",
      "current epoch: 9 current mean dice: 0.0428\n",
      "best mean dice: 0.0428 at epoch: 9\n",
      "----------\n",
      "epoch 10/100\n"
     ]
    },
    {
     "name": "stderr",
     "output_type": "stream",
     "text": [
      "\n",
      "  0%|                                                    | 0/23 [00:00<?, ?it/s]\u001b[A\n",
      "  4%|█▉                                          | 1/23 [00:06<02:21,  6.42s/it]\u001b[A\n",
      "  9%|███▊                                        | 2/23 [00:10<01:40,  4.79s/it]\u001b[A\n",
      " 13%|█████▋                                      | 3/23 [00:13<01:24,  4.20s/it]\u001b[A\n",
      " 17%|███████▋                                    | 4/23 [00:17<01:15,  3.96s/it]\u001b[A\n",
      " 22%|█████████▌                                  | 5/23 [00:20<01:07,  3.77s/it]\u001b[A\n",
      " 26%|███████████▍                                | 6/23 [00:23<01:01,  3.63s/it]\u001b[A\n",
      " 30%|█████████████▍                              | 7/23 [00:27<00:57,  3.58s/it]\u001b[A\n",
      " 35%|███████████████▎                            | 8/23 [00:31<00:53,  3.59s/it]\u001b[A\n",
      " 39%|█████████████████▏                          | 9/23 [00:34<00:49,  3.55s/it]\u001b[A\n",
      " 43%|██████████████████▋                        | 10/23 [00:37<00:45,  3.48s/it]\u001b[A\n",
      " 48%|████████████████████▌                      | 11/23 [00:41<00:41,  3.44s/it]\u001b[A\n",
      " 52%|██████████████████████▍                    | 12/23 [00:44<00:38,  3.47s/it]\u001b[A\n",
      " 57%|████████████████████████▎                  | 13/23 [00:48<00:35,  3.57s/it]\u001b[A\n",
      " 61%|██████████████████████████▏                | 14/23 [00:52<00:32,  3.65s/it]\u001b[A\n",
      " 65%|████████████████████████████               | 15/23 [00:56<00:29,  3.68s/it]\u001b[A\n",
      " 70%|█████████████████████████████▉             | 16/23 [00:59<00:25,  3.64s/it]\u001b[A\n",
      " 74%|███████████████████████████████▊           | 17/23 [01:03<00:21,  3.56s/it]\u001b[A\n",
      " 78%|█████████████████████████████████▋         | 18/23 [01:06<00:17,  3.43s/it]\u001b[A\n",
      " 83%|███████████████████████████████████▌       | 19/23 [01:09<00:13,  3.33s/it]\u001b[A\n",
      " 87%|█████████████████████████████████████▍     | 20/23 [01:12<00:10,  3.36s/it]\u001b[A\n",
      " 91%|███████████████████████████████████████▎   | 21/23 [01:15<00:06,  3.30s/it]\u001b[A"
     ]
    }
   ],
   "source": [
    "for epoch in tqdm.tqdm(range(max_epochs)):\n",
    "    print(\"-\" * 10)\n",
    "    print(f\"epoch {epoch + 1}/{max_epochs}\")\n",
    "    model.train()\n",
    "    epoch_loss = 0\n",
    "    step = 0\n",
    "    start_time = time.time()\n",
    "    \n",
    "    for batch_data in tqdm.tqdm(train_loader):\n",
    "        step += 1\n",
    "        inputs, labels = (\n",
    "            batch_data[\"image\"].to(device),\n",
    "            batch_data[\"label\"].to(device),\n",
    "        )\n",
    "        \n",
    "        optimizer.zero_grad()\n",
    "        outputs = model(inputs)\n",
    "        loss = loss_function(outputs, labels)\n",
    "        loss.backward()\n",
    "        optimizer.step()\n",
    "        epoch_loss += loss.item()\n",
    "#         print(\n",
    "#             f\"{step}/{len(train_ds) // train_loader.batch_size}, \"\n",
    "#             f\"train_loss: {loss.item():.4f}\")\n",
    "        \n",
    "    epoch_loss /= step\n",
    "    epoch_loss_values.append(epoch_loss)\n",
    "    print(f\"epoch {epoch + 1} average loss: {epoch_loss:.4f}\")\n",
    "    end_time = time.time()\n",
    "    print(\"epoch time = %f seconds\" % (end_time - start_time))\n",
    "\n",
    "    if (epoch + 1) % val_interval == 0:\n",
    "        model.eval()\n",
    "        with torch.no_grad():\n",
    "            for val_data in val_loader:\n",
    "                val_inputs, val_labels = (\n",
    "                    val_data[\"image\"].to(device),\n",
    "                    val_data[\"label\"].to(device),\n",
    "                )\n",
    "    \n",
    "                roi_size = (96, 96, 48)\n",
    "                sw_batch_size = 4\n",
    "                val_outputs = sliding_window_inference(\n",
    "                    val_inputs, roi_size, sw_batch_size, model)\n",
    "                val_outputs = [post_pred(i) for i in decollate_batch(val_outputs)]\n",
    "                val_labels = [post_label(i) for i in decollate_batch(val_labels)]\n",
    "                # compute metric for current iteration\n",
    "                dice_metric(y_pred=val_outputs, y=val_labels)\n",
    "\n",
    "            # aggregate the final mean dice result\n",
    "            metric = dice_metric.aggregate().item()\n",
    "            # reset the status for next validation round\n",
    "            dice_metric.reset()\n",
    "\n",
    "            wandb.log({\"loss\": epoch_loss, \"validation\": metric})\n",
    "            wandb.watch(model)\n",
    "            metric_values.append(metric)\n",
    "            if metric > best_metric:\n",
    "                best_metric = metric\n",
    "                best_metric_epoch = epoch + 1\n",
    "                torch.save(model.state_dict(), os.path.join(\n",
    "                    root_dir, \"best_metric_model.pth\"))\n",
    "                print(\"saved new best metric model\")\n",
    "                \n",
    "            print(\n",
    "                f\"current epoch: {epoch + 1} current mean dice: {metric:.4f}\"\n",
    "                f\"\\nbest mean dice: {best_metric:.4f} \"\n",
    "                f\"at epoch: {best_metric_epoch}\"\n",
    "            )"
   ]
  },
  {
   "cell_type": "code",
   "execution_count": null,
   "metadata": {
    "id": "KK7yKS-oY0n9"
   },
   "outputs": [],
   "source": [
    "print(\n",
    "    f\"train completed, best_metric: {best_metric:.4f} \"\n",
    "    f\"at epoch: {best_metric_epoch}\")"
   ]
  },
  {
   "cell_type": "markdown",
   "metadata": {},
   "source": [
    "### Plotting Losses"
   ]
  },
  {
   "cell_type": "code",
   "execution_count": null,
   "metadata": {
    "id": "wY5CSWQ7Y1fx"
   },
   "outputs": [],
   "source": [
    "plt.figure(\"train\", (10, 10))\n",
    "\n",
    "plt.subplot(1, 2, 1)\n",
    "plt.title(\"Epoch Average Loss\")\n",
    "x = [i + 1 for i in range(len(epoch_loss_values))]\n",
    "y = epoch_loss_values\n",
    "plt.xlabel(\"Epoch\")\n",
    "plt.ylabel(\"Epoch Average Loss\")\n",
    "plt.plot(x, y)\n",
    "\n",
    "plt.subplot(1, 2, 2)\n",
    "plt.title(\"Validation Mean Dice\")\n",
    "x = [val_interval * (i + 1) for i in range(len(metric_values))]\n",
    "y = metric_values\n",
    "plt.xlabel(\"Epoch\")\n",
    "plt.ylabel(\"Mean Dice Metric\")\n",
    "plt.plot(x, y)\n",
    "plt.show()"
   ]
  },
  {
   "cell_type": "markdown",
   "metadata": {},
   "source": [
    "### Visualizing Validation Outputs"
   ]
  },
  {
   "cell_type": "code",
   "execution_count": null,
   "metadata": {
    "id": "KFPmtI7yY_u5"
   },
   "outputs": [],
   "source": [
    "model.load_state_dict(torch.load(\n",
    "    os.path.join(root_dir, \"best_metric_model.pth\")))\n",
    "model.eval()\n",
    "scan = 24\n",
    "\n",
    "with torch.no_grad():\n",
    "    for i, val_data in enumerate(val_loader):\n",
    "        roi_size = (96, 96, 48)\n",
    "        sw_batch_size = 4\n",
    "        val_outputs = sliding_window_inference(\n",
    "            val_data[\"image\"].to(device), roi_size, sw_batch_size, model\n",
    "        )\n",
    "\n",
    "        plt.figure(\"Check\", (20, 10))\n",
    "        plt.subplot(1, 3, 1)\n",
    "        plt.title(f\"Image {i}\")\n",
    "        plt.imshow(val_data[\"image\"][0, 0, :, :, scan], cmap=\"gray\")\n",
    "        \n",
    "        plt.subplot(1, 3, 2)\n",
    "        plt.title(f\"Label {i}\")\n",
    "        plt.imshow(val_data[\"label\"][0, 0, :, :, scan])\n",
    "        \n",
    "        plt.subplot(1, 3, 3)\n",
    "        plt.title(f\"Output {i}\")\n",
    "        plt.imshow(torch.argmax(\n",
    "            val_outputs, dim=1).detach().cpu()[0, :, :, scan])\n",
    "        plt.show()\n",
    "        \n",
    "        if i == 5:\n",
    "            break"
   ]
  }
 ],
 "metadata": {
  "accelerator": "GPU",
  "colab": {
   "name": "UNet.ipynb",
   "provenance": []
  },
  "kernelspec": {
   "display_name": "Python 3 (ipykernel)",
   "language": "python",
   "name": "python3"
  },
  "language_info": {
   "codemirror_mode": {
    "name": "ipython",
    "version": 3
   },
   "file_extension": ".py",
   "mimetype": "text/x-python",
   "name": "python",
   "nbconvert_exporter": "python",
   "pygments_lexer": "ipython3",
   "version": "3.9.12"
  }
 },
 "nbformat": 4,
 "nbformat_minor": 1
}
